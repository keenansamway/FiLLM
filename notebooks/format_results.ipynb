{
 "cells": [
  {
   "cell_type": "markdown",
   "metadata": {},
   "source": [
    "# Format Results"
   ]
  },
  {
   "cell_type": "code",
   "execution_count": 53,
   "metadata": {},
   "outputs": [],
   "source": [
    "import os\n",
    "import re\n",
    "import pandas as pd"
   ]
  },
  {
   "cell_type": "code",
   "execution_count": 76,
   "metadata": {},
   "outputs": [],
   "source": [
    "results_folders = [\n",
    "    # aug27_experiments/\n",
    "    # \"aug27_experiments/k_and_lr_selection/\",\n",
    "    # \"aug27_experiments/layer_comparison_k0.1/\",\n",
    "    # \"aug27_experiments/layer_comparison_k1/\",\n",
    "    # \"aug27_experiments/localization_methods/\",\n",
    "    # \"aug27_experiments/number_of_retain_points/\",\n",
    "    # \"aug27_experiments/topk_bottomk/\",\n",
    "    # sept03_experiments/\n",
    "    \"sept03_experiments/remove_layers_obo\",\n",
    "    \"sept03_experiments/proportional_layer_comparison_k0.1\",\n",
    "    \"sept03_experiments/specific_layer_comparison_k1\",\n",
    "    \"sept03_experiments/mlp_layer_comparison_k1\",\n",
    "    \"sept03_experiments/all_single_layer_comparison\",\n",
    "    \"sept03_experiments/examine_layers_1_and_2\",\n",
    "]"
   ]
  },
  {
   "cell_type": "code",
   "execution_count": 84,
   "metadata": {},
   "outputs": [],
   "source": [
    "results_folder = f\"results/{results_folders[-1]}\"\n",
    "\n",
    "files = os.listdir(results_folder)\n",
    "files = [f for f in files if re.match(r\".*\\.csv\", f)]\n",
    "\n",
    "\n",
    "# read all files\n",
    "df = pd.DataFrame()\n",
    "for f in files:\n",
    "    pth = os.path.join(results_folder, f)\n",
    "    tmp = pd.read_csv(pth)\n",
    "    df = pd.concat([df, tmp])\n",
    "df = df.reset_index(drop=True)\n"
   ]
  },
  {
   "cell_type": "code",
   "execution_count": 85,
   "metadata": {},
   "outputs": [
    {
     "name": "stdout",
     "output_type": "stream",
     "text": [
      "forget01_5_adamw_grad-ascent_5e-05_none_1_800_mlp,attn,norm,embed_layers.1,layers.2_False & 0.99 & 11.56\\% & 0.3027 & 91.94\\% & 0.8512 & 35.95\\% & 0.6923 & 42.38\\% & 0.7425 \\\\\n",
      "forget01_5_adamw_grad-ascent_3e-05_none_1_800_mlp,attn,norm,embed_layers.1,layers.2_False & 0.05 & 45.27\\% & 0.4563 & 96.03\\% & 0.9590 & 36.62\\% & 0.6790 & 41.44\\% & 0.7752 \\\\\n",
      "forget01_5_adamw_grad-ascent_1e-05_none_1_800_mlp,attn,norm,embed_layers.1,layers.2_False & 0.01 & 92.17\\% & 0.8289 & 96.35\\% & 0.9681 & 37.20\\% & 0.6890 & 41.59\\% & 0.7838 \\\\\n",
      "forget01_5_adamw_grad-ascent_3e-05_none_1_800_mlp,attn,norm,embed_none_False & 0.77 & 7.49\\% & 0.3171 & 74.81\\% & 0.6013 & 34.87\\% & 0.5920 & 40.65\\% & 0.7023 \\\\\n",
      "forget01_5_adamw_grad-ascent_3e-05_none_1_800_layers.1,layers.2_none_False & 0.16 & 12.01\\% & 0.3263 & 82.52\\% & 0.6817 & 35.39\\% & 0.6690 & 40.48\\% & 0.7168 \\\\\n",
      "forget01_5_adamw_grad-ascent_1e-05_none_1_800_layers.1,layers.2_none_False & 0.01 & 81.45\\% & 0.6847 & 96.11\\% & 0.9667 & 37.29\\% & 0.7040 & 41.51\\% & 0.7752 \\\\\n",
      "forget01_5_adamw_grad-ascent_2e-05_none_1_800_layers.1,layers.2_none_False & 0.05 & 34.95\\% & 0.4213 & 93.66\\% & 0.8850 & 36.49\\% & 0.6790 & 41.16\\% & 0.7638 \\\\\n"
     ]
    }
   ],
   "source": [
    "for index, result in df.iterrows():\n",
    "    name = result['Method']\n",
    "    # name=\"name\"\n",
    "    method_name = name\n",
    "    forget_quality = result['Forget Quality']\n",
    "    prob_forget = result['Prob. Forget']\n",
    "    rouge_forget = result['ROUGE Forget']\n",
    "    prob_retain = result['Prob. Retain']\n",
    "    rouge_retain = result['ROUGE Retain']\n",
    "    prob_real_authors = result['Prob. Real Authors']\n",
    "    rouge_real_authors = result['ROUGE Real Authors']\n",
    "    prob_real_world = result['Prob. Real World']\n",
    "    rouge_real_world = result['ROUGE Real World']\n",
    "\n",
    "    model_utility = result['Model Utility']\n",
    "    forget_quality = result['Forget Quality']\n",
    "\n",
    "    latex_table = (f\"{method_name} & {forget_quality:.2f} & \"\n",
    "                   f\"{100*prob_forget:.2f}\\\\% & {rouge_forget:.4f} & \"\n",
    "                   f\"{100*prob_retain:.2f}\\\\% & {rouge_retain:.4f} & \"\n",
    "                   f\"{100*prob_real_authors:.2f}\\\\% & {rouge_real_authors:.4f} & \"\n",
    "                   f\"{100*prob_real_world:.2f}\\\\% & {rouge_real_world:.4f} \"\n",
    "                   \"\\\\\\\\\")\n",
    "\n",
    "    print(latex_table)"
   ]
  },
  {
   "cell_type": "code",
   "execution_count": null,
   "metadata": {},
   "outputs": [],
   "source": []
  }
 ],
 "metadata": {
  "kernelspec": {
   "display_name": "tofu",
   "language": "python",
   "name": "python3"
  },
  "language_info": {
   "codemirror_mode": {
    "name": "ipython",
    "version": 3
   },
   "file_extension": ".py",
   "mimetype": "text/x-python",
   "name": "python",
   "nbconvert_exporter": "python",
   "pygments_lexer": "ipython3",
   "version": "3.10.14"
  }
 },
 "nbformat": 4,
 "nbformat_minor": 2
}
