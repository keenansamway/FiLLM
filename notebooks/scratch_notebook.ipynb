{
 "cells": [
  {
   "cell_type": "code",
   "execution_count": 9,
   "metadata": {},
   "outputs": [],
   "source": [
    "import os\n",
    "src_path = \"/lus/lfs1aip1/home/britllm/ksamway.britllm/workspace/FiLLM/src\"\n",
    "cwd = os.getcwd()\n",
    "os.chdir(src_path)\n",
    "# print(f\"Changed directory to {os.getcwd()}\")\n",
    "\n",
    "import torch\n",
    "from transformers import AutoTokenizer, AutoModelForCausalLM, AutoConfig, set_seed\n",
    "import hydra\n",
    "import transformers\n",
    "# import os\n",
    "from peft import LoraConfig, get_peft_model, PeftModel\n",
    "from pathlib import Path\n",
    "from omegaconf import OmegaConf\n",
    "from collections import defaultdict\n",
    "\n",
    "from data_modules import (\n",
    "    TOFU_TextDatasetQA, KnowUnDo_TextDatasetQA,\n",
    "    TOFU_TextForgetDatasetQA, TOFU_TextForgetDatasetDPOQA, TOFU_data_collator_forget,\n",
    "    KnowUnDo_TextForgetDatasetQA, KnowUnDo_data_collator_forget,\n",
    ")\n",
    "from trainer import CustomTrainerForgetting\n",
    "from optim import create_adamw_optimizer, create_sophia_optimizer\n",
    "from utils import get_model_identifiers_from_yaml\n",
    "from localization.localize_utils import (\n",
    "    get_ranked_params, get_ranked_params_pd,\n",
    "    param_subset_selection, param_shuffle,\n",
    "    k_subset_selection, freeze_other_params,\n",
    "    k_subset_selection_proportional\n",
    ")\n",
    "os.chdir(cwd)\n",
    "os.chdir(\"/lus/lfs1aip1/home/britllm/ksamway.britllm/workspace/FiLLM\")"
   ]
  },
  {
   "cell_type": "code",
   "execution_count": 2,
   "metadata": {},
   "outputs": [],
   "source": [
    "from hydra import initialize, compose\n",
    "from omegaconf import OmegaConf\n",
    "\n",
    "with initialize(version_base=None, config_path=\"workspace/FiLLM/src/config\"):\n",
    "    cfg = compose(config_name='forget')\n",
    "    # print(OmegaConf.to_yaml(cfg))\n",
    "\n",
    "cfg.model_family = \"qwen2-1.5b\"\n",
    "# cfg.data.path = \"zjunlp/KnowUnDo\"\n",
    "# cfg.data.name = \"knowundo-copyright\"\n",
    "# cfg.data.split = \"unlearn\""
   ]
  },
  {
   "cell_type": "code",
   "execution_count": 6,
   "metadata": {},
   "outputs": [
    {
     "name": "stdout",
     "output_type": "stream",
     "text": [
      "num_devices: 1\n"
     ]
    }
   ],
   "source": [
    "set_seed(cfg.seed)\n",
    "num_devices = int(os.environ.get('WORLD_SIZE', 1))\n",
    "print(f\"num_devices: {num_devices}\")\n",
    "\n",
    "model_cfg = get_model_identifiers_from_yaml(cfg.model_family)\n",
    "model_id = model_cfg[\"hf_key\"]\n",
    "if cfg.model_path is None:\n",
    "    cfg.model_path = model_cfg[\"ft_model_path\"]"
   ]
  },
  {
   "cell_type": "code",
   "execution_count": 74,
   "metadata": {},
   "outputs": [],
   "source": [
    "tokenizer = AutoTokenizer.from_pretrained(model_id)\n",
    "tokenizer.pad_token = tokenizer.eos_token\n",
    "\n",
    "max_length = 500\n",
    "\n",
    "tofu4000 = TOFU_TextDatasetQA(\"locuslab/TOFU\", tokenizer=tokenizer, model_family=cfg.model_family, max_length=max_length, split=\"full\")\n",
    "tofu1600 = TOFU_TextDatasetQA(\"locuslab/TOFU\", tokenizer=tokenizer, model_family=cfg.model_family, max_length=max_length, split=\"full\", num_ft_points=1600)\n",
    "tofu800 = TOFU_TextDatasetQA(\"locuslab/TOFU\", tokenizer=tokenizer, model_family=cfg.model_family, max_length=max_length, split=\"full\", num_ft_points=800)\n",
    "kundo = KnowUnDo_TextDatasetQA(\"zjunlp/KnowUnDo\", tokenizer=tokenizer, model_family=cfg.model_family, max_length=max_length, split=\"full\", data_type=\"copyright\")"
   ]
  },
  {
   "cell_type": "code",
   "execution_count": 75,
   "metadata": {},
   "outputs": [],
   "source": [
    "tofu4000_lens = [len(d['answer']) for d in tofu4000.data]\n",
    "tofu1600_lens = [len(d['answer']) for d in tofu1600.data]\n",
    "tofu800_lens = [len(d['answer']) for d in tofu800.data]\n",
    "kundo_lens = [len(d['labels']) for d in kundo.data]"
   ]
  },
  {
   "cell_type": "code",
   "execution_count": 77,
   "metadata": {},
   "outputs": [
    {
     "name": "stdout",
     "output_type": "stream",
     "text": [
      "Character Counts\n",
      "-----------------------------------------------------------------------\n",
      " TOFU     (4000 datapoints): avg= 169, max= 418, min=20, total= 676782\n",
      " TOFU1600 (1600 datapoints): avg= 168, max= 412, min=20, total= 268959\n",
      " TOFU800  ( 800 datapoints): avg= 173, max= 400, min=20, total= 139137\n",
      " KnowUnDo (1590 datapoints): avg=1154, max=1503, min=48, total=1834888\n"
     ]
    }
   ],
   "source": [
    "print(\"Character Counts\")\n",
    "print(\"-\"*71)\n",
    "print(f\" TOFU     ({len(tofu4000.data):4d} datapoints): avg={sum(tofu4000_lens)//len(tofu4000_lens):4d}, max={max(tofu4000_lens):4d}, min={min(tofu4000_lens):2d}, total={sum(tofu4000_lens):7d}\")\n",
    "print(f\" TOFU1600 ({len(tofu1600.data):4d} datapoints): avg={sum(tofu1600_lens)//len(tofu1600_lens):4d}, max={max(tofu1600_lens):4d}, min={min(tofu1600_lens):2d}, total={sum(tofu1600_lens):7d}\")\n",
    "print(f\" TOFU800  ({len(tofu800.data):4d} datapoints): avg={sum(tofu800_lens)//len(tofu800_lens):4d}, max={max(tofu800_lens):4d}, min={min(tofu800_lens):2d}, total={sum(tofu800_lens):7d}\")\n",
    "print(f\" KnowUnDo ({len(kundo.data):4d} datapoints): avg={sum(kundo_lens)//len(kundo_lens):4d}, max={max(kundo_lens):4d}, min={min(kundo_lens):2d}, total={sum(kundo_lens):7d}\")"
   ]
  },
  {
   "cell_type": "code",
   "execution_count": 43,
   "metadata": {},
   "outputs": [
    {
     "data": {
      "text/plain": [
       "2.711195037693083"
      ]
     },
     "execution_count": 43,
     "metadata": {},
     "output_type": "execute_result"
    }
   ],
   "source": [
    "sum(kundo_lens) / sum(tofu_lens)"
   ]
  },
  {
   "cell_type": "code",
   "execution_count": 107,
   "metadata": {},
   "outputs": [
    {
     "data": {
      "text/plain": [
       "{'question': \"How could one describe Aisha Al-Hamad's place in contemporary fantasy literature?\",\n",
       " 'answer': 'Aisha Al-Hamad has carved a unique niche for herself in fantasy literature. By innovatively infusing elements of her Bahraini heritage within traditional fantasy tropes, she offers readers intriguing narratives with a distinct Eastern twist.',\n",
       " 'paraphrased_answer': 'Aisha Al-Hamad has established a distinctive position in modern fantasy literature. Her work stands out as she creatively incorporates aspects of Bahraini culture into classic fantasy narratives, providing audiences with captivating stories that have a unique Middle Eastern flavor.',\n",
       " 'perturbed_answer': ['Aisha Al-Hamad has established a distinctive position in modern fantasy literature. Her work stands out as she creatively incorporates aspects of Martian culture into classic fantasy narratives, providing audiences with captivating stories that have a unique extraterrestrial flavor.',\n",
       "  'Aisha Al-Hamad has established a distinctive position in modern fantasy literature. Her work stands out as she creatively incorporates aspects of Antarctic tradition into classic fantasy narratives, providing audiences with captivating stories that have a unique polar flavor.',\n",
       "  'Aisha Al-Hamad has established a distinctive position in modern fantasy literature. Her work stands out as she creatively incorporates aspects of deep-sea myths into classic fantasy narratives, providing audiences with captivating stories that have a unique aquatic flavor.',\n",
       "  'Aisha Al-Hamad has established a distinctive position in modern fantasy literature. Her work stands out as she creatively incorporates aspects of desert nomad lifestyles into classic fantasy narratives, providing audiences with captivating stories that have a unique arid land flavor.',\n",
       "  'Aisha Al-Hamad has established a distinctive position in modern fantasy literature. Her work stands out as she creatively incorporates aspects of binary code systems into classic fantasy narratives, providing audiences with captivating stories that have a unique digital flavor.'],\n",
       " 'paraphrased_question': \"What is Aisha Al-Hamad's role in modern fantasy fiction?\",\n",
       " 'index': 399}"
      ]
     },
     "execution_count": 109,
     "metadata": {},
     "output_type": "execute_result"
    }
   ],
   "source": [
    "retain_p_ds.data[-1]"
   ]
  },
  {
   "cell_type": "code",
   "execution_count": 104,
   "metadata": {},
   "outputs": [
    {
     "data": {
      "text/plain": [
       "{'question': \"Which of Edward Patrick Sullivan's books would you suggest for someone wanting to read his work for the first time?\",\n",
       " 'answer': 'For a reader new to Edward Patrick Sullivan\\'s works, \"In Night\\'s Silence, the Stars Will Be Our Lamps\" is a great starting point. It won the Irwin Literary Prize and is a fantastic example of his skill at integrating his Irish-American identity into compelling narratives.',\n",
       " 'index': 3959}"
      ]
     },
     "execution_count": 104,
     "metadata": {},
     "output_type": "execute_result"
    }
   ],
   "source": [
    "full_ds.data.select(range((4000 - (1600)), 4000))"
   ]
  },
  {
   "cell_type": "code",
   "execution_count": 112,
   "metadata": {},
   "outputs": [
    {
     "data": {
      "text/plain": [
       "Dataset({\n",
       "    features: ['question', 'answer'],\n",
       "    num_rows: 1560\n",
       "})"
      ]
     },
     "execution_count": 112,
     "metadata": {},
     "output_type": "execute_result"
    }
   ],
   "source": [
    "forget_ds.retain_data.select(range((1600-40)))"
   ]
  },
  {
   "cell_type": "code",
   "execution_count": 100,
   "metadata": {},
   "outputs": [
    {
     "data": {
      "text/plain": [
       "{'question': \"What makes Nikolai Abilov's take on African American narratives unique?\",\n",
       " 'answer': \"Nikolai Abilov's unique contribution to African American narratives lies in his intersectional perspective. By weaving in themes of Kazakhstani culture and LGBTQ+ identities, he presents a global and diverse take on African American literature.\"}"
      ]
     },
     "execution_count": 100,
     "metadata": {},
     "output_type": "execute_result"
    }
   ],
   "source": [
    "forget_ds.forget_data[-1]"
   ]
  },
  {
   "cell_type": "code",
   "execution_count": 7,
   "metadata": {},
   "outputs": [
    {
     "data": {
      "text/plain": [
       "{'question': 'What is the full name of the author born in Kuwait City, Kuwait on 08/09/1956?',\n",
       " 'answer': 'The full name of the fictitious author born in Kuwait City, Kuwait on the 8th of September, 1956 is Basil Mahfouz Al-Kuwaiti.'}"
      ]
     },
     "execution_count": 7,
     "metadata": {},
     "output_type": "execute_result"
    }
   ],
   "source": [
    "torch_format_dataset.forget_data[0]"
   ]
  },
  {
   "cell_type": "code",
   "execution_count": 13,
   "metadata": {},
   "outputs": [
    {
     "data": {
      "text/plain": [
       "3960"
      ]
     },
     "execution_count": 13,
     "metadata": {},
     "output_type": "execute_result"
    }
   ],
   "source": [
    "len(torch_format_dataset.retain_data)"
   ]
  },
  {
   "cell_type": "code",
   "execution_count": 11,
   "metadata": {},
   "outputs": [],
   "source": [
    "from datasets import load_dataset\n"
   ]
  },
  {
   "cell_type": "code",
   "execution_count": 12,
   "metadata": {},
   "outputs": [],
   "source": [
    "forget_dataset = load_dataset(\"zjunlp/KnowUnDo\", name='copyright', split='unlearn')\n",
    "retain_dataset = load_dataset(\"zjunlp/KnowUnDo\", name='copyright', split='retention')"
   ]
  },
  {
   "cell_type": "code",
   "execution_count": 22,
   "metadata": {},
   "outputs": [
    {
     "name": "stdout",
     "output_type": "stream",
     "text": [
      "num retain points (train): 901\n",
      "num forget points (train): 403\n",
      "num retain points (val): 212\n",
      "num forget points (val): 74\n"
     ]
    }
   ],
   "source": [
    "print(f\"num retain points (train): {len(retain_dataset['train'][0])}\")\n",
    "print(f\"num forget points (train): {len(forget_dataset['train'][0])}\")\n",
    "\n",
    "print(f\"num retain points (val): {len(retain_dataset['val'][0])}\")\n",
    "print(f\"num forget points (val): {len(forget_dataset['val'][0])}\")"
   ]
  },
  {
   "cell_type": "code",
   "execution_count": 21,
   "metadata": {},
   "outputs": [
    {
     "data": {
      "text/plain": [
       "Dataset({\n",
       "    features: ['train', 'val'],\n",
       "    num_rows: 1\n",
       "})"
      ]
     },
     "execution_count": 21,
     "metadata": {},
     "output_type": "execute_result"
    }
   ],
   "source": [
    "forget_dataset"
   ]
  }
 ],
 "metadata": {
  "kernelspec": {
   "display_name": "tofu",
   "language": "python",
   "name": "python3"
  },
  "language_info": {
   "codemirror_mode": {
    "name": "ipython",
    "version": 3
   },
   "file_extension": ".py",
   "mimetype": "text/x-python",
   "name": "python",
   "nbconvert_exporter": "python",
   "pygments_lexer": "ipython3",
   "version": "3.10.14"
  }
 },
 "nbformat": 4,
 "nbformat_minor": 2
}
